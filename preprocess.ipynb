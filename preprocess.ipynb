{
 "cells": [
  {
   "cell_type": "code",
   "execution_count": 1,
   "metadata": {},
   "outputs": [],
   "source": [
    "#imports for website dev/plotting\n",
    "import dash\n",
    "import dash_core_components as dcc\n",
    "import dash_html_components as html\n",
    "import plotly.graph_objs as go\n",
    "import plotly.express as px\n",
    "\n",
    "#imports for data + manipulation\n",
    "import pandas as pd\n",
    "import numpy as np\n",
    "import imdb\n",
    "from bs4 import BeautifulSoup\n",
    "import requests\n",
    "import re\n",
    "\n",
    "#other imports\n",
    "import os"
   ]
  },
  {
   "cell_type": "markdown",
   "metadata": {},
   "source": [
    "## Get Data\n",
    "Using the imdbpy API to get data about Rachel Weisz from IMDB."
   ]
  },
  {
   "cell_type": "code",
   "execution_count": 2,
   "metadata": {},
   "outputs": [],
   "source": [
    "ia = imdb.IMDb()"
   ]
  },
  {
   "cell_type": "code",
   "execution_count": 3,
   "metadata": {},
   "outputs": [],
   "source": [
    "movie_cols = ia.get_movie_infoset()\n",
    "star_cols = ia.get_person_infoset()"
   ]
  },
  {
   "cell_type": "code",
   "execution_count": 4,
   "metadata": {},
   "outputs": [],
   "source": [
    "rachel_id = ia.search_person('Rachel Weisz')[0].personID"
   ]
  },
  {
   "cell_type": "code",
   "execution_count": 5,
   "metadata": {},
   "outputs": [],
   "source": [
    "rachel = ia.get_person(rachel_id)"
   ]
  },
  {
   "cell_type": "code",
   "execution_count": 6,
   "metadata": {},
   "outputs": [],
   "source": [
    "rachel_movies = rachel['filmography'][0]['actress']\n",
    "rachel_movie_ids = [i.movieID for i in rachel_movies]"
   ]
  },
  {
   "cell_type": "markdown",
   "metadata": {},
   "source": [
    "## Data Cleaning\n",
    "Pulling relevant data from each movie from Rachel Weisz's filmography. Putting the data into a DataFrame to be saved to a csv so that it can be easily accessed in the Dash app. Made function to scrape boxofficemojo to get the box office gross of each movie."
   ]
  },
  {
   "cell_type": "code",
   "execution_count": 28,
   "metadata": {},
   "outputs": [],
   "source": [
    "#mov.infoset2keys (to see the info pulled)\n",
    "#var(mov) (to see the attributes of Movies/Person)\n",
    "movies = []\n",
    "important_keys = ['original title', 'genres', 'runtimes', 'countries', 'country codes', 'votes',\n",
    "                 'year', 'rating', 'original air date', 'kind', 'plot']\n",
    "\n",
    "for i in rachel_movie_ids:\n",
    "    movie = ia.get_movie(i)\n",
    "    movie_info = []\n",
    "    for k in important_keys:\n",
    "        try:\n",
    "            val = movie[k]\n",
    "            movie_info.append(val)\n",
    "        except:\n",
    "            movie_info.append(np.nan)\n",
    "    \n",
    "    movies.append(movie_info)"
   ]
  },
  {
   "cell_type": "code",
   "execution_count": 40,
   "metadata": {},
   "outputs": [
    {
     "data": {
      "text/html": [
       "<div>\n",
       "<style scoped>\n",
       "    .dataframe tbody tr th:only-of-type {\n",
       "        vertical-align: middle;\n",
       "    }\n",
       "\n",
       "    .dataframe tbody tr th {\n",
       "        vertical-align: top;\n",
       "    }\n",
       "\n",
       "    .dataframe thead th {\n",
       "        text-align: right;\n",
       "    }\n",
       "</style>\n",
       "<table border=\"1\" class=\"dataframe\">\n",
       "  <thead>\n",
       "    <tr style=\"text-align: right;\">\n",
       "      <th></th>\n",
       "      <th>original title</th>\n",
       "      <th>genres</th>\n",
       "      <th>runtimes</th>\n",
       "      <th>countries</th>\n",
       "      <th>country codes</th>\n",
       "      <th>votes</th>\n",
       "      <th>year</th>\n",
       "      <th>rating</th>\n",
       "      <th>original air date</th>\n",
       "      <th>kind</th>\n",
       "      <th>plot</th>\n",
       "      <th>id</th>\n",
       "    </tr>\n",
       "  </thead>\n",
       "  <tbody>\n",
       "    <tr>\n",
       "      <th>0</th>\n",
       "      <td>A Special Relationship</td>\n",
       "      <td>[Drama]</td>\n",
       "      <td>NaN</td>\n",
       "      <td>[United Kingdom, Australia]</td>\n",
       "      <td>[gb, au]</td>\n",
       "      <td>NaN</td>\n",
       "      <td>NaN</td>\n",
       "      <td>NaN</td>\n",
       "      <td>NaN</td>\n",
       "      <td>NaN</td>\n",
       "      <td>[The story of how Hollywood icon Elizabeth Tay...</td>\n",
       "      <td>11204050</td>\n",
       "    </tr>\n",
       "    <tr>\n",
       "      <th>1</th>\n",
       "      <td>Black Widow (2020)</td>\n",
       "      <td>[Action, Adventure, Sci-Fi]</td>\n",
       "      <td>NaN</td>\n",
       "      <td>[United States]</td>\n",
       "      <td>[us]</td>\n",
       "      <td>NaN</td>\n",
       "      <td>2020.0</td>\n",
       "      <td>NaN</td>\n",
       "      <td>01 May 2020 (USA)</td>\n",
       "      <td>movie</td>\n",
       "      <td>[A film about Natasha Romanoff in her quests b...</td>\n",
       "      <td>3480822</td>\n",
       "    </tr>\n",
       "    <tr>\n",
       "      <th>2</th>\n",
       "      <td>The Favourite (2018)</td>\n",
       "      <td>[Biography, Drama, History]</td>\n",
       "      <td>[119]</td>\n",
       "      <td>[Ireland, United Kingdom, United States]</td>\n",
       "      <td>[ie, gb, us]</td>\n",
       "      <td>137100.0</td>\n",
       "      <td>2018.0</td>\n",
       "      <td>7.6</td>\n",
       "      <td>21 Dec 2018 (USA)</td>\n",
       "      <td>movie</td>\n",
       "      <td>[In early 18th century England, a frail Queen ...</td>\n",
       "      <td>5083738</td>\n",
       "    </tr>\n",
       "    <tr>\n",
       "      <th>3</th>\n",
       "      <td>The Mercy (2018)</td>\n",
       "      <td>[Adventure, Biography, Drama, Mystery]</td>\n",
       "      <td>[112]</td>\n",
       "      <td>[United Kingdom]</td>\n",
       "      <td>[gb]</td>\n",
       "      <td>6100.0</td>\n",
       "      <td>2018.0</td>\n",
       "      <td>6.0</td>\n",
       "      <td>30 Nov 2018 (USA)</td>\n",
       "      <td>movie</td>\n",
       "      <td>[The incredible story of amateur sailor Donald...</td>\n",
       "      <td>3319730</td>\n",
       "    </tr>\n",
       "    <tr>\n",
       "      <th>4</th>\n",
       "      <td>Disobedience (2017)</td>\n",
       "      <td>[Drama, Romance]</td>\n",
       "      <td>[114]</td>\n",
       "      <td>[Ireland, United Kingdom, United States]</td>\n",
       "      <td>[ie, gb, us]</td>\n",
       "      <td>20359.0</td>\n",
       "      <td>2017.0</td>\n",
       "      <td>6.6</td>\n",
       "      <td>27 Apr 2018 (USA)</td>\n",
       "      <td>movie</td>\n",
       "      <td>[A woman returns to her Orthodox Jewish commun...</td>\n",
       "      <td>6108178</td>\n",
       "    </tr>\n",
       "  </tbody>\n",
       "</table>\n",
       "</div>"
      ],
      "text/plain": [
       "           original title                                  genres runtimes  \\\n",
       "0  A Special Relationship                                 [Drama]      NaN   \n",
       "1      Black Widow (2020)             [Action, Adventure, Sci-Fi]      NaN   \n",
       "2    The Favourite (2018)             [Biography, Drama, History]    [119]   \n",
       "3        The Mercy (2018)  [Adventure, Biography, Drama, Mystery]    [112]   \n",
       "4     Disobedience (2017)                        [Drama, Romance]    [114]   \n",
       "\n",
       "                                  countries country codes     votes    year  \\\n",
       "0               [United Kingdom, Australia]      [gb, au]       NaN     NaN   \n",
       "1                           [United States]          [us]       NaN  2020.0   \n",
       "2  [Ireland, United Kingdom, United States]  [ie, gb, us]  137100.0  2018.0   \n",
       "3                          [United Kingdom]          [gb]    6100.0  2018.0   \n",
       "4  [Ireland, United Kingdom, United States]  [ie, gb, us]   20359.0  2017.0   \n",
       "\n",
       "   rating  original air date   kind  \\\n",
       "0     NaN                NaN    NaN   \n",
       "1     NaN  01 May 2020 (USA)  movie   \n",
       "2     7.6  21 Dec 2018 (USA)  movie   \n",
       "3     6.0  30 Nov 2018 (USA)  movie   \n",
       "4     6.6  27 Apr 2018 (USA)  movie   \n",
       "\n",
       "                                                plot        id  \n",
       "0  [The story of how Hollywood icon Elizabeth Tay...  11204050  \n",
       "1  [A film about Natasha Romanoff in her quests b...   3480822  \n",
       "2  [In early 18th century England, a frail Queen ...   5083738  \n",
       "3  [The incredible story of amateur sailor Donald...   3319730  \n",
       "4  [A woman returns to her Orthodox Jewish commun...   6108178  "
      ]
     },
     "execution_count": 40,
     "metadata": {},
     "output_type": "execute_result"
    }
   ],
   "source": [
    "df = pd.DataFrame(movies, columns = important_keys)\n",
    "df['id'] = rachel_movie_ids\n",
    "df.head()"
   ]
  },
  {
   "cell_type": "code",
   "execution_count": 30,
   "metadata": {},
   "outputs": [],
   "source": [
    "def box_office(movie_id):\n",
    "    try:\n",
    "        imdb_id = 'tt' + str(movie_id)\n",
    "\n",
    "        # Fetch the box office numbers\n",
    "        base = 'https://www.boxofficemojo.com'\n",
    "        url = base + '/title/' + imdb_id\n",
    "        source = requests.get(url).text\n",
    "        soup = BeautifulSoup(source,'lxml')\n",
    "        table = soup('th', text=re.compile(r'Release Group'))[0].parent.parent\n",
    "        group = table.findAll('tr', recursive=False)[1].find('a').get('href')\n",
    "        url = base + group\n",
    "\n",
    "        # Get total earnings domestic and international\n",
    "        source = requests.get(url).text\n",
    "        soup = BeautifulSoup(source,'lxml')\n",
    "        earnings = soup('h2', text=re.compile(r'Rollout'))[0].parent.parent.findAll('div')\n",
    "        domestic = earnings[1].find('span', {'class': 'money'}).get_text()\n",
    "        domestic_url = earnings[1].find('a').get('href')\n",
    "        international = earnings[2].find('span', {'class': 'money'}).get_text()\n",
    "\n",
    "        domestic = domestic.replace('$', '').replace(',', '')\n",
    "        international = international.strip('$').replace(',', '')\n",
    "    except:\n",
    "        domestic = np.nan\n",
    "        international = np.nan\n",
    "    \n",
    "    return str(domestic) + ',' + str(international)"
   ]
  },
  {
   "cell_type": "code",
   "execution_count": 41,
   "metadata": {},
   "outputs": [],
   "source": [
    "gross = df.loc[df['kind'] == 'movie']['id'].apply(box_office)"
   ]
  },
  {
   "cell_type": "code",
   "execution_count": 42,
   "metadata": {},
   "outputs": [],
   "source": [
    "gross_re = gross.str.split(',', expand=True)\n",
    "gross_re.columns = ['domestic', 'international']\n",
    "gross_re = gross_re.replace('nan', np.nan)\n",
    "gross_re['domestic'] = gross_re['domestic'].astype(float)\n",
    "gross_re['international'] = gross_re['international'].astype(float)"
   ]
  },
  {
   "cell_type": "code",
   "execution_count": 43,
   "metadata": {},
   "outputs": [],
   "source": [
    "rachel_df = pd.concat([df.loc[df['kind'] == 'movie'], gross_re], axis = 1)"
   ]
  },
  {
   "cell_type": "code",
   "execution_count": 44,
   "metadata": {},
   "outputs": [],
   "source": [
    "rachel_df['runtimes'] = rachel_df['runtimes'].apply(lambda x: x[0] if type(x) != float else x)\n",
    "rachel_df['plot'] = rachel_df['plot'].apply(lambda x: x[0] if type(x) != float else x)\n",
    "rachel_df['total'] = rachel_df['domestic'] + rachel_df['international']"
   ]
  },
  {
   "cell_type": "code",
   "execution_count": 46,
   "metadata": {},
   "outputs": [],
   "source": [
    "rachel_df.reset_index(drop = True).to_csv('rachel.csv')"
   ]
  },
  {
   "cell_type": "code",
   "execution_count": null,
   "metadata": {},
   "outputs": [],
   "source": [
    "countries = rachel_df.groupby('year')['countries'].sum()\n",
    "countries = countries.reset_index()\n",
    "yearly = countries['countries'].apply(lambda x: pd.Series(x).value_counts()).fillna(0)\n",
    "yearly['year'] = countries.year\n",
    "country_df = pd.melt(yearly, 'year').rename({'variable': 'Country', 'value': 'Movie Count', 'year': 'Year'}, axis = 1)\n",
    "country_df = country_df.loc[country_df['Movie Count'] > 0].sort_values('Year').reset_index(drop = True)"
   ]
  },
  {
   "cell_type": "code",
   "execution_count": null,
   "metadata": {},
   "outputs": [],
   "source": [
    "px.choropleth(country_df, locations =  'Country', locationmode = 'country names', color = 'Movie Count', \n",
    "             animation_frame=\"Year\")"
   ]
  },
  {
   "cell_type": "code",
   "execution_count": null,
   "metadata": {},
   "outputs": [],
   "source": [
    "#TODO: network graph, something about financials and being gay"
   ]
  },
  {
   "cell_type": "code",
   "execution_count": null,
   "metadata": {},
   "outputs": [],
   "source": [
    "dropped = rachel_df.dropna(subset = ['domestic', 'international'])\\\n",
    "[['original title', 'domestic', 'international', 'total']]\n",
    "\n",
    "labels = dropped['original title'].tolist()\n",
    "parents = ['Rachel Weisz Movies' for x in labels]\n",
    "\n",
    "labels.append('Rachel Weisz Movies')\n",
    "parents.append('')\n",
    "\n",
    "fig = go.Figure()\n",
    "fig.add_trace(go.Treemap(\n",
    "    labels = labels,\n",
    "    parents = parents,\n",
    "    ))\n",
    "fig.show()"
   ]
  },
  {
   "cell_type": "code",
   "execution_count": null,
   "metadata": {},
   "outputs": [],
   "source": [
    "import plotly\n",
    "plotly.__version__"
   ]
  },
  {
   "cell_type": "code",
   "execution_count": null,
   "metadata": {},
   "outputs": [],
   "source": []
  }
 ],
 "metadata": {
  "kernelspec": {
   "display_name": "Python 3",
   "language": "python",
   "name": "python3"
  },
  "language_info": {
   "codemirror_mode": {
    "name": "ipython",
    "version": 3
   },
   "file_extension": ".py",
   "mimetype": "text/x-python",
   "name": "python",
   "nbconvert_exporter": "python",
   "pygments_lexer": "ipython3",
   "version": "3.7.3"
  }
 },
 "nbformat": 4,
 "nbformat_minor": 4
}
